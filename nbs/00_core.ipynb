{
 "cells": [
  {
   "cell_type": "markdown",
   "metadata": {},
   "source": [
    "# core\n",
    "\n",
    "> Fill in a module description here"
   ]
  },
  {
   "cell_type": "code",
   "execution_count": null,
   "metadata": {},
   "outputs": [],
   "source": [
    "#| default_exp core"
   ]
  },
  {
   "cell_type": "code",
   "execution_count": null,
   "metadata": {},
   "outputs": [],
   "source": [
    "#| hide\n",
    "from nbdev.showdoc import *"
   ]
  },
  {
   "cell_type": "code",
   "execution_count": null,
   "metadata": {},
   "outputs": [],
   "source": [
    "#| export\n",
    "import matplotlib.pyplot as plt\n",
    "import requests"
   ]
  },
  {
   "cell_type": "code",
   "execution_count": null,
   "metadata": {},
   "outputs": [],
   "source": [
    "#| export\n",
    "class CoreClient:\n",
    "\n",
    "    def __init__(self, url):\n",
    "        self.url = url\n",
    "\n",
    "    def visualize_data(self, threshold=10):\n",
    "\n",
    "        url = f\"{self.url}/api/search?q=*&type=dataset&show_facets=true\"\n",
    "\n",
    "        response = requests.get(url)\n",
    "\n",
    "        facets = response.json().get(\"data\", {}).get(\"facets\", [])\n",
    "\n",
    "        facet_data = {}\n",
    "\n",
    "        for item in facets:\n",
    "            for key in item.keys():\n",
    "                facet = item[key]\n",
    "                name = facet.get(\"friendly\")\n",
    "                labels = facet.get(\"labels\", [])\n",
    "                facet_data[name] = {list(label.keys())[0]: list(label.values())[0] for label in labels}\n",
    "\n",
    "        # Visualize each facet\n",
    "        for facet_name, values in facet_data.items():\n",
    "            labels = list(values.keys())\n",
    "            counts = list(values.values())\n",
    "\n",
    "            if len(labels) > threshold:\n",
    "                labels = labels[:threshold]\n",
    "                counts = counts[:threshold]\n",
    "            \n",
    "            # Create a bar chart\n",
    "            plt.figure(figsize=(10, 6))\n",
    "            plt.barh(labels, counts)\n",
    "            plt.title(f\"Facet: {facet_name}\")\n",
    "            plt.xlabel(\"Count\")\n",
    "            plt.ylabel(\"Values\")\n",
    "            plt.tight_layout()\n",
    "            plt.show()"
   ]
  },
  {
   "cell_type": "code",
   "execution_count": null,
   "metadata": {},
   "outputs": [],
   "source": [
    "#| hide\n",
    "import nbdev; nbdev.nbdev_export()"
   ]
  }
 ],
 "metadata": {
  "kernelspec": {
   "display_name": "python3",
   "language": "python",
   "name": "python3"
  }
 },
 "nbformat": 4,
 "nbformat_minor": 4
}
